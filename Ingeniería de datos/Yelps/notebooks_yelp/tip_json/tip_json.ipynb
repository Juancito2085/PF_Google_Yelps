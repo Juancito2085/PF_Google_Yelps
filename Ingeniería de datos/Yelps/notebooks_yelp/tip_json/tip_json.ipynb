{
 "cells": [
  {
   "cell_type": "code",
   "execution_count": 1,
   "metadata": {},
   "outputs": [],
   "source": [
    "#librerias\n",
    "import json\n",
    "import pandas as pd\n",
    "import os"
   ]
  },
  {
   "cell_type": "code",
   "execution_count": 2,
   "metadata": {},
   "outputs": [],
   "source": [
    "#leer el archivo json \n",
    "\n",
    "tip = []\n",
    "\n",
    "with open('/Users/luisalbertocerelli/Desktop/00-Todo/Data_Science/01-Full_Time/TPFINAL/Yelp/notebooks_yelp/tip_json/tip.json', 'r') as f:\n",
    "    for line in f:\n",
    "        tip.append(json.loads(line))"
   ]
  },
  {
   "cell_type": "code",
   "execution_count": 3,
   "metadata": {},
   "outputs": [],
   "source": [
    "#convertir el json en un dataframe\n",
    "df_tip = pd.DataFrame(tip)"
   ]
  },
  {
   "cell_type": "code",
   "execution_count": 4,
   "metadata": {},
   "outputs": [
    {
     "name": "stdout",
     "output_type": "stream",
     "text": [
      "Tamaño del archivo original:  180.604475 MB\n"
     ]
    }
   ],
   "source": [
    "#analizamos el peso del archivo original\n",
    "\n",
    "print(\"Tamaño del archivo original: \", os.path.getsize('/Users/luisalbertocerelli/Desktop/00-Todo/Data_Science/01-Full_Time/TPFINAL/Yelp/notebooks_yelp/tip_json/tip.json')/1e6, \"MB\")\n"
   ]
  },
  {
   "cell_type": "code",
   "execution_count": 5,
   "metadata": {},
   "outputs": [],
   "source": [
    "#guardamos el dataframe en un archivo csv para una mejor compresion de los datos\n",
    "df_tip.to_csv('/Users/luisalbertocerelli/Desktop/00-Todo/Data_Science/01-Full_Time/TPFINAL/Yelp/notebooks_yelp/tip_json/tip.csv', index=False)"
   ]
  },
  {
   "cell_type": "code",
   "execution_count": 6,
   "metadata": {},
   "outputs": [
    {
     "data": {
      "text/plain": [
       "(908915, 5)"
      ]
     },
     "execution_count": 6,
     "metadata": {},
     "output_type": "execute_result"
    }
   ],
   "source": [
    "df_tip.shape"
   ]
  },
  {
   "cell_type": "code",
   "execution_count": 7,
   "metadata": {},
   "outputs": [
    {
     "name": "stdout",
     "output_type": "stream",
     "text": [
      "<class 'pandas.core.frame.DataFrame'>\n",
      "RangeIndex: 908915 entries, 0 to 908914\n",
      "Data columns (total 5 columns):\n",
      " #   Column            Non-Null Count   Dtype \n",
      "---  ------            --------------   ----- \n",
      " 0   user_id           908915 non-null  object\n",
      " 1   business_id       908915 non-null  object\n",
      " 2   text              908915 non-null  object\n",
      " 3   date              908915 non-null  object\n",
      " 4   compliment_count  908915 non-null  int64 \n",
      "dtypes: int64(1), object(4)\n",
      "memory usage: 34.7+ MB\n"
     ]
    }
   ],
   "source": [
    "df_tip.info()"
   ]
  },
  {
   "cell_type": "code",
   "execution_count": 8,
   "metadata": {},
   "outputs": [
    {
     "name": "stdout",
     "output_type": "stream",
     "text": [
      "Cantidad de valores duplicados:  67\n"
     ]
    }
   ],
   "source": [
    "#verificar si hay valores duplicados\n",
    "duplicates = df_tip.duplicated().sum()\n",
    "print(\"Cantidad de valores duplicados: \", duplicates)"
   ]
  },
  {
   "cell_type": "code",
   "execution_count": 9,
   "metadata": {},
   "outputs": [],
   "source": [
    "#acceder a los valores duplicados y hacer un csv con ellos\n",
    "duplicates = df_tip[df_tip.duplicated()]\n",
    "duplicates.to_csv('/Users/luisalbertocerelli/Desktop/00-Todo/Data_Science/01-Full_Time/TPFINAL/Yelp/notebooks_yelp/tip_json/valores_duplicados_en _tip.csv', index=False)\n",
    "\n",
    "\n"
   ]
  },
  {
   "cell_type": "code",
   "execution_count": 10,
   "metadata": {},
   "outputs": [],
   "source": [
    "#luego de la verificacion de duplicados, eliminamos los valores duplicados, para lo cual, primero generamos una copia del dataframe original\n",
    "df_tip_sin_duplicados = df_tip.copy()\n",
    "df_tip_sin_duplicados = df_tip_sin_duplicados.drop_duplicates()"
   ]
  },
  {
   "cell_type": "code",
   "execution_count": 11,
   "metadata": {},
   "outputs": [
    {
     "name": "stdout",
     "output_type": "stream",
     "text": [
      "Cantidad de valores duplicados:  0\n"
     ]
    }
   ],
   "source": [
    "#verificamos si se eliminaron los valores duplicados\n",
    "duplicates = df_tip_sin_duplicados.duplicated().sum()\n",
    "print(\"Cantidad de valores duplicados: \", duplicates)"
   ]
  },
  {
   "cell_type": "markdown",
   "metadata": {},
   "source": [
    "### Analisis de las columnas: \n",
    "\n",
    "Segun el estudio realizado, creemos necesarias a todas las columnas, en el caso de <span style='color:yellow'><u>compliment_count</u></span> la cual es un número entero que indica cuántos otros usuarios han encontrado útil o apreciado el consejo, consideramos que es de muy insignificante peso y tal vez podria ser necesaria para el objetivo de ML como asi tambien para los KPI's, ya que se tratarán exclusivamente sobre las review.. por lo tanto, <span style='color:lightblue'>consideramos que puede ser necesaria a nuestros intereses</span><span style='color:green'> SE PROCEDE A DEJAR LA COLUMNA</span>\n"
   ]
  },
  {
   "cell_type": "code",
   "execution_count": 12,
   "metadata": {},
   "outputs": [],
   "source": [
    "#finalmente guardamos el dataframe sin valores duplicados y limpio en un nuevo json\n",
    "\n",
    "df_tip_sin_duplicados.to_json('/Users/luisalbertocerelli/Desktop/00-Todo/Data_Science/01-Full_Time/TPFINAL/Yelp/notebooks_yelp/tip_json/df_tip_listo_para_usar.json', orient='records', lines=True)\n",
    "\n"
   ]
  }
 ],
 "metadata": {
  "kernelspec": {
   "display_name": "Python 3",
   "language": "python",
   "name": "python3"
  },
  "language_info": {
   "codemirror_mode": {
    "name": "ipython",
    "version": 3
   },
   "file_extension": ".py",
   "mimetype": "text/x-python",
   "name": "python",
   "nbconvert_exporter": "python",
   "pygments_lexer": "ipython3",
   "version": "3.12.3"
  }
 },
 "nbformat": 4,
 "nbformat_minor": 2
}
