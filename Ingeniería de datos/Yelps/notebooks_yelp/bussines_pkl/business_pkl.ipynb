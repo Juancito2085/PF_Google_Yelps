{
 "cells": [
  {
   "cell_type": "code",
   "execution_count": 1,
   "metadata": {},
   "outputs": [],
   "source": [
    "#importamos las librerias necesarias\n",
    "import pickle\n",
    "import numpy as np\n",
    "import pandas as pd\n",
    "import reverse_geocode\n",
    "from joblib import Parallel, delayed\n",
    "import time\n"
   ]
  },
  {
   "cell_type": "code",
   "execution_count": 2,
   "metadata": {},
   "outputs": [],
   "source": [
    "# Cargar el archivo pickle (.pkl)\n",
    "file_path = '/Users/luisalbertocerelli/Desktop/00-Todo/Data_Science/01-Full_Time/TPFINAL/Yelp/notebooks_yelp/bussines_pkl/business.pkl'\n",
    "df_bussines_pkl = pd.read_pickle(file_path)"
   ]
  },
  {
   "cell_type": "code",
   "execution_count": 3,
   "metadata": {},
   "outputs": [],
   "source": [
    "#Eliminamos las columnas duplicadas del DataFrame copia\n",
    "df_bussines_pkl = df_bussines_pkl.iloc[:, :14]"
   ]
  },
  {
   "cell_type": "code",
   "execution_count": 5,
   "metadata": {},
   "outputs": [
    {
     "name": "stdout",
     "output_type": "stream",
     "text": [
      "business_id         0\n",
      "name                0\n",
      "address             0\n",
      "city                0\n",
      "state               3\n",
      "postal_code         0\n",
      "latitude            0\n",
      "longitude           0\n",
      "stars               0\n",
      "review_count        0\n",
      "is_open             0\n",
      "attributes      13744\n",
      "categories        103\n",
      "hours           23223\n",
      "dtype: int64\n"
     ]
    }
   ],
   "source": [
    "#vuelvo a analizar los valores nulos\n",
    "print(df_bussines_pkl.isnull().sum())"
   ]
  },
  {
   "cell_type": "markdown",
   "metadata": {},
   "source": [
    "### Estudio de las columnas con nulos: \n",
    "\n",
    "<u>attributes:</u> Es un conjunto de atributos adicionales del negocio. Puede ser una cadena de texto, un diccionario u otro tipo de dato que contenga información adicional como si el negocio tiene Wi-Fi, accesibilidad para discapacitados, etc. <span style='color:lightpink'>consideramos que no es necesaria a nuestros intereses</span><span style='color:red'> SE PROCEDE A BORRAR LA COLUMNA</span>"
   ]
  },
  {
   "cell_type": "markdown",
   "metadata": {},
   "source": [
    "<u>categories:</u> Son las categorías a las que pertenece el negocio. Es una cadena de texto que puede contener múltiples categorías separadas por comas, como \"restaurante, italiano, pizza\".<span style='color:lightblue'>consideramos que puede ser necesaria a nuestros intereses</span><span style='color:Gold'> SE ANALIZARA COMO RELLENAR LOS NULOS(103)</span>"
   ]
  },
  {
   "cell_type": "markdown",
   "metadata": {},
   "source": [
    "<u>hours:</u> Es el horario de apertura del negocio. Puede ser una cadena de texto, un diccionario u otro tipo de dato que especifique los horarios de apertura y cierre para cada día de la semana. <span style='color:lightpink'>consideramos que no es necesaria a nuestros intereses</span><span style='color:red'> SE PROCEDE A BORRAR LA COLUMNA</span>"
   ]
  },
  {
   "cell_type": "code",
   "execution_count": 6,
   "metadata": {},
   "outputs": [],
   "source": [
    "#Dropeamos las columnas 'attributes' y 'hours' de acuerdo al analisis previo:\n",
    "\n",
    "df_bussines_pkl = df_bussines_pkl.drop(['attributes', 'hours'], axis=1)"
   ]
  },
  {
   "cell_type": "code",
   "execution_count": 7,
   "metadata": {},
   "outputs": [],
   "source": [
    "#filtrar todo el dataframe por 'restaurants' en la columna 'categories'\n",
    "mask = df_bussines_pkl['categories'].str.contains('Restaurants', case=False, na=False)\n",
    "df_bussines_pkl = df_bussines_pkl[mask]"
   ]
  },
  {
   "cell_type": "code",
   "execution_count": 8,
   "metadata": {},
   "outputs": [],
   "source": [
    "#funcion para obtener la cantidad de nucleos de la maquina, la cual se utilizara para la paralelizacion, dejando un nucleo libre para otras tareas(n-1)\n",
    "\n",
    "import multiprocessing\n",
    "\n",
    "# Obtener el número total de núcleos de procesamiento lógicos en la máquina\n",
    "total_cores = multiprocessing.cpu_count()\n",
    "\n",
    "# Decidir cuántos núcleos utilizar. Por ejemplo, usar todos menos uno para dejar recursos libres para otras tareas.\n",
    "num_cores_to_use = total_cores - 1\n",
    "\n",
    "# Luego, pasas este número al parámetro num_cores en la llamada a parallel_apply\n",
    "#df_bussines_pkl[['reverse_city', 'reverse_state']] = parallel_apply(df_bussines_pkl, get_city_state, num_cores=num_cores_to_use)"
   ]
  },
  {
   "cell_type": "code",
   "execution_count": 10,
   "metadata": {},
   "outputs": [],
   "source": [
    "#funcion para obtener la ciudad y el estado usando reverse_geocode, creando dos columnas nuevas en el dataframe: 'city_reverse', 'state_reverse'\n",
    "\n",
    "# Cache de resultados\n",
    "cache = {}\n",
    "\n",
    "# Función para obtener la ciudad y el estado usando reverse_geocode\n",
    "def get_city_state(lat, lon):\n",
    "    coordinates = (lat, lon)\n",
    "    if coordinates not in cache:\n",
    "        location = reverse_geocode.search([coordinates])[0]\n",
    "        cache[coordinates] = (location['city'], location['state'])\n",
    "    return cache[coordinates]\n",
    "\n",
    "# Paralelizar las solicitudes de geocodificación\n",
    "def parallel_apply(df, func, num_cores=4):\n",
    "    results = Parallel(n_jobs=num_cores)(delayed(func)(row['latitude'], row['longitude']) for idx, row in df.iterrows())\n",
    "    return pd.DataFrame(results, columns=['city_reverse', 'state_reverse'])\n",
    "\n",
    "# Medir el tiempo de ejecución\n",
    "start_time = time.time()\n",
    "\n",
    "# Aplicar la función en paralelo\n",
    "df_bussines_pkl[['reverse_city', 'reverse_state']] = parallel_apply(df_bussines_pkl, get_city_state)\n",
    "\n",
    "# # Mostrar el tiempo de ejecución si se desea\n",
    "# print(f\"--- {time.time() - start_time} seconds ---\")\n"
   ]
  },
  {
   "cell_type": "code",
   "execution_count": 11,
   "metadata": {},
   "outputs": [],
   "source": [
    "#borro las columnas de 'City', 'State', pues no se corresponden entre si, generando muchos conflictos\n",
    "df_bussines_pkl = df_bussines_pkl.drop(['city', 'state'], axis=1)"
   ]
  },
  {
   "cell_type": "code",
   "execution_count": 12,
   "metadata": {},
   "outputs": [],
   "source": [
    "# filtrar todo el dataframe por las ciudades de 'Pennsylvania', 'Texas', New York', 'California', 'Florida' de la columna 'reverse_state'\n",
    "mask = df_bussines_pkl['reverse_state'].isin(['Pennsylvania', 'Texas', 'New York', 'California', 'Florida'])\n",
    "df_bussines_pkl = df_bussines_pkl[mask]"
   ]
  },
  {
   "cell_type": "code",
   "execution_count": 13,
   "metadata": {},
   "outputs": [],
   "source": [
    "#hago un csv para ver la estructura del archivo\n",
    "df_bussines_pkl.to_csv('Yelp/notebooks_yelp/bussines_pkl/df_bussines_pkl_con_ciudad_estado.csv/df_bussines_pkl_con_ciudad_estado.csv', index=False)"
   ]
  }
 ],
 "metadata": {
  "kernelspec": {
   "display_name": "Python 3",
   "language": "python",
   "name": "python3"
  },
  "language_info": {
   "codemirror_mode": {
    "name": "ipython",
    "version": 3
   },
   "file_extension": ".py",
   "mimetype": "text/x-python",
   "name": "python",
   "nbconvert_exporter": "python",
   "pygments_lexer": "ipython3",
   "version": "3.12.3"
  }
 },
 "nbformat": 4,
 "nbformat_minor": 2
}
