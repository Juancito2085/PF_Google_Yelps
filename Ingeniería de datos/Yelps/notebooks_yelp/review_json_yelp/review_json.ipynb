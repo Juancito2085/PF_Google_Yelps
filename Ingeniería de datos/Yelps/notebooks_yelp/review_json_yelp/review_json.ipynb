{
 "cells": [
  {
   "cell_type": "code",
   "execution_count": 1,
   "metadata": {},
   "outputs": [],
   "source": [
    "#librerias a usar\n",
    "import numpy as np\n",
    "import matplotlib.pyplot as plt\n",
    "import pandas as pd\n"
   ]
  },
  {
   "cell_type": "code",
   "execution_count": 2,
   "metadata": {},
   "outputs": [],
   "source": [
    "#leer el archivo json\n",
    "\n",
    "chunks = pd.read_json('/Users/luisalbertocerelli/Desktop/00-Todo/Data_Science/01-Full_Time/TPFINAL/Yelp/notebooks_yelp/review_json_yelp/review.json', lines=True, chunksize=1000)\n",
    "\n",
    "df_review_crudo = pd.concat(chunks)"
   ]
  },
  {
   "cell_type": "code",
   "execution_count": 1,
   "metadata": {},
   "outputs": [
    {
     "name": "stdout",
     "output_type": "stream",
     "text": [
      "La capacidad del archivo \"review.json\" es de 5341.868833 MB\n"
     ]
    }
   ],
   "source": [
    "#Analizar el 'peso' del archivo\n",
    "\n",
    "import os\n",
    "\n",
    "size_in_bytes = os.path.getsize('/Users/luisalbertocerelli/Desktop/00-Todo/Data_Science/01-Full_Time/TPFINAL/Yelp/notebooks_yelp/review_json_yelp/review.json')\n",
    "size_in_megabytes = size_in_bytes / 1e6\n",
    "\n",
    "print(f'La capacidad del archivo \"review.json\" es de {size_in_megabytes} MB')"
   ]
  },
  {
   "cell_type": "code",
   "execution_count": 3,
   "metadata": {},
   "outputs": [
    {
     "data": {
      "text/plain": [
       "(6990280, 9)"
      ]
     },
     "execution_count": 3,
     "metadata": {},
     "output_type": "execute_result"
    }
   ],
   "source": [
    "df_review_crudo.shape"
   ]
  },
  {
   "cell_type": "code",
   "execution_count": 4,
   "metadata": {},
   "outputs": [
    {
     "name": "stdout",
     "output_type": "stream",
     "text": [
      "<class 'pandas.core.frame.DataFrame'>\n",
      "RangeIndex: 6990280 entries, 0 to 6990279\n",
      "Data columns (total 9 columns):\n",
      " #   Column       Dtype         \n",
      "---  ------       -----         \n",
      " 0   review_id    object        \n",
      " 1   user_id      object        \n",
      " 2   business_id  object        \n",
      " 3   stars        int64         \n",
      " 4   useful       int64         \n",
      " 5   funny        int64         \n",
      " 6   cool         int64         \n",
      " 7   text         object        \n",
      " 8   date         datetime64[ns]\n",
      "dtypes: datetime64[ns](1), int64(4), object(4)\n",
      "memory usage: 480.0+ MB\n"
     ]
    }
   ],
   "source": [
    "df_review_crudo.info()"
   ]
  },
  {
   "cell_type": "code",
   "execution_count": 8,
   "metadata": {},
   "outputs": [],
   "source": [
    "#hacer un csv con las primeras 100 filas para ver la estructura del archivo\n",
    "df_review_crudo.head(100).to_csv('/Users/luisalbertocerelli/Desktop/00-Todo/Data_Science/01-Full_Time/TPFINAL/Yelp/notebooks_yelp/df_review_crudo_100_filas.csv', index=False)"
   ]
  },
  {
   "cell_type": "code",
   "execution_count": 5,
   "metadata": {},
   "outputs": [
    {
     "data": {
      "text/plain": [
       "review_id      0\n",
       "user_id        0\n",
       "business_id    0\n",
       "stars          0\n",
       "useful         0\n",
       "funny          0\n",
       "cool           0\n",
       "text           0\n",
       "date           0\n",
       "dtype: int64"
      ]
     },
     "execution_count": 5,
     "metadata": {},
     "output_type": "execute_result"
    }
   ],
   "source": [
    "#verificar si hay valores nulos\n",
    "df_review_crudo.isnull().sum()\n"
   ]
  },
  {
   "cell_type": "code",
   "execution_count": 9,
   "metadata": {},
   "outputs": [
    {
     "data": {
      "text/plain": [
       "0"
      ]
     },
     "execution_count": 9,
     "metadata": {},
     "output_type": "execute_result"
    }
   ],
   "source": [
    "#verificar si hay valores duplicados\n",
    "df_review_crudo.duplicated().sum()\n",
    "\n"
   ]
  },
  {
   "cell_type": "markdown",
   "metadata": {},
   "source": [
    "### Analisis de las columnas: \n",
    "\n",
    "Segun el estudio realizado, nos encontramos con tres columnas en particular que se escapan a nuestro objetivo, las mismas son: \n",
    "\n",
    "<u>useful (int64):</u> Es el número de veces que otros usuarios han marcado la reseña como \"útil\". Este valor es un número entero.<span style='color:lightpink'>consideramos que no es necesaria a nuestros intereses</span><span style='color:red'> SE PROCEDE A BORRAR LA COLUMNA</span>\n",
    "\n",
    "<u>funny (int64):</u>  Es el número de veces que otros usuarios han marcado la reseña como \"divertida\". Este valor es un número entero.<span style='color:lightpink'>consideramos que no es necesaria a nuestros intereses</span><span style='color:red'> SE PROCEDE A BORRAR LA COLUMNA</span>\n",
    "\n",
    "<u> cool (int64): </u> Es el número de veces que otros usuarios han marcado la reseña como \"genial\" o \"interesante\". Este valor es un número entero.<span style='color:lightpink'>consideramos que no es necesaria a nuestros intereses</span><span style='color:red'> SE PROCEDE A BORRAR LA COLUMNA</span>"
   ]
  },
  {
   "cell_type": "code",
   "execution_count": 3,
   "metadata": {},
   "outputs": [],
   "source": [
    "#hacemos una copia del dataframe original\n",
    "df_review = df_review_crudo.copy()"
   ]
  },
  {
   "cell_type": "code",
   "execution_count": 4,
   "metadata": {},
   "outputs": [
    {
     "data": {
      "text/plain": [
       "(6990280, 9)"
      ]
     },
     "execution_count": 4,
     "metadata": {},
     "output_type": "execute_result"
    }
   ],
   "source": [
    "#verificamos la copia\n",
    "df_review.shape"
   ]
  },
  {
   "cell_type": "code",
   "execution_count": 5,
   "metadata": {},
   "outputs": [],
   "source": [
    "#y dropeamos las columnas que de 'useful', 'funny' y 'cool' que no vamos a usar\n",
    "df_review.drop(columns=['useful', 'funny', 'cool'], inplace=True)"
   ]
  },
  {
   "cell_type": "code",
   "execution_count": 6,
   "metadata": {},
   "outputs": [
    {
     "data": {
      "text/plain": [
       "(6990280, 6)"
      ]
     },
     "execution_count": 6,
     "metadata": {},
     "output_type": "execute_result"
    }
   ],
   "source": [
    "#verificamos que se hayan dropeado\n",
    "df_review.shape"
   ]
  },
  {
   "cell_type": "code",
   "execution_count": 7,
   "metadata": {},
   "outputs": [],
   "source": [
    "#guardamos el df en un nuevo archivo parquet\n",
    "df_review.to_parquet('/Users/luisalbertocerelli/Desktop/00-Todo/Data_Science/01-Full_Time/TPFINAL/Yelp/notebooks_yelp/review_json_yelp/review_listo_para_usar.parquet', index=False)\n",
    "\n"
   ]
  },
  {
   "cell_type": "code",
   "execution_count": 8,
   "metadata": {},
   "outputs": [
    {
     "name": "stdout",
     "output_type": "stream",
     "text": [
      "La capacidad del archivo parquet \"review_listo_para_usar\" es de 2959.282368 MB\n"
     ]
    }
   ],
   "source": [
    "#Analizamos el 'peso' del nuevo archivo parquet\n",
    "import os\n",
    "\n",
    "size_in_bytes = os.path.getsize('/Users/luisalbertocerelli/Desktop/00-Todo/Data_Science/01-Full_Time/TPFINAL/Yelp/notebooks_yelp/review_json_yelp/review_listo_para_usar.parquet')\n",
    "size_in_megabytes = size_in_bytes / 1e6\n",
    "\n",
    "print(f'La capacidad del archivo parquet \"review_listo_para_usar\" es de {size_in_megabytes} MB')"
   ]
  },
  {
   "cell_type": "code",
   "execution_count": 9,
   "metadata": {},
   "outputs": [
    {
     "name": "stdout",
     "output_type": "stream",
     "text": [
      "La diferencia de peso entre el archivo json y el parquet es de 2382.5864650000003 MB\n"
     ]
    }
   ],
   "source": [
    "import os\n",
    "\n",
    "# Obtén el tamaño del archivo JSON\n",
    "size_in_bytes_json = os.path.getsize('/Users/luisalbertocerelli/Desktop/00-Todo/Data_Science/01-Full_Time/TPFINAL/Yelp/notebooks_yelp/review_json_yelp/review.json')\n",
    "size_in_megabytes_json = size_in_bytes_json / 1e6\n",
    "\n",
    "# Obtén el tamaño del archivo Parquet\n",
    "size_in_bytes_parquet = os.path.getsize('/Users/luisalbertocerelli/Desktop/00-Todo/Data_Science/01-Full_Time/TPFINAL/Yelp/notebooks_yelp/review_json_yelp/review_listo_para_usar.parquet')\n",
    "size_in_megabytes_parquet = size_in_bytes_parquet / 1e6\n",
    "\n",
    "# Calcula la diferencia\n",
    "diferencia = size_in_megabytes_json - size_in_megabytes_parquet \n",
    "\n",
    "print(f'La diferencia de peso entre el archivo json y el parquet es de {diferencia} MB')\n",
    "\n"
   ]
  },
  {
   "cell_type": "code",
   "execution_count": 1,
   "metadata": {},
   "outputs": [
    {
     "ename": "NameError",
     "evalue": "name 'df_review' is not defined",
     "output_type": "error",
     "traceback": [
      "\u001b[0;31m---------------------------------------------------------------------------\u001b[0m",
      "\u001b[0;31mNameError\u001b[0m                                 Traceback (most recent call last)",
      "Cell \u001b[0;32mIn[1], line 1\u001b[0m\n\u001b[0;32m----> 1\u001b[0m \u001b[43mdf_review\u001b[49m\u001b[38;5;241m.\u001b[39mcolumns\n",
      "\u001b[0;31mNameError\u001b[0m: name 'df_review' is not defined"
     ]
    }
   ],
   "source": [
    "df_review.columns"
   ]
  }
 ],
 "metadata": {
  "kernelspec": {
   "display_name": "Python 3",
   "language": "python",
   "name": "python3"
  },
  "language_info": {
   "codemirror_mode": {
    "name": "ipython",
    "version": 3
   },
   "file_extension": ".py",
   "mimetype": "text/x-python",
   "name": "python",
   "nbconvert_exporter": "python",
   "pygments_lexer": "ipython3",
   "version": "3.12.3"
  }
 },
 "nbformat": 4,
 "nbformat_minor": 2
}
