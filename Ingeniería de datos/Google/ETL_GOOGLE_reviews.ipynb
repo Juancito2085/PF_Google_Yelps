{
 "cells": [
  {
   "cell_type": "markdown",
   "metadata": {},
   "source": []
  },
  {
   "cell_type": "code",
   "execution_count": 1,
   "metadata": {},
   "outputs": [],
   "source": [
    "import pandas as pd\n",
    "import numpy as np\n",
    "import json\n",
    "import os"
   ]
  },
  {
   "cell_type": "code",
   "execution_count": 2,
   "metadata": {},
   "outputs": [],
   "source": [
    "#Se carga el archivo de restaurantes ya limpio para poder obtener las ids de google\n",
    "# y asi crear un data set solo las reviews de los restaurantes\n",
    "df_restaurantes= pd.read_parquet('Datos limpios/restaurantes_clean.parquet')\n",
    "gmaps=df_restaurantes['gmap_id'].astype(str).tolist()"
   ]
  },
  {
   "cell_type": "code",
   "execution_count": 3,
   "metadata": {},
   "outputs": [],
   "source": [
    "#Hago un diccionarion con las rutas de los archivos de las reviews\n",
    "ruta_review_estados={\n",
    "    'NY': 'Datasets/Google Maps/reviews-estados/review-New_York',\n",
    "    'CA': 'Datasets/Google Maps/reviews-estados/review-California',\n",
    "    'TX': 'Datasets/Google Maps/reviews-estados/review-Texas',\n",
    "    'FL': 'Datasets/Google Maps/reviews-estados/review-Florida',\n",
    "    'PA': 'Datasets/Google Maps/reviews-estados/review-Pennsylvania',\n",
    "\n",
    "}"
   ]
  },
  {
   "cell_type": "code",
   "execution_count": 6,
   "metadata": {},
   "outputs": [],
   "source": [
    "reviews={}\n",
    "#Recorro todos los archivos y solo me quedo con las reviews de los restaurantes\n",
    "for ruta in ruta_review_estados.values():\n",
    "#Por cada ruta se recorren todos los archvivos\n",
    "    for archivo in os.listdir(ruta):\n",
    "        ruta_archivo=os.path.join(ruta, archivo)\n",
    "        with open(ruta+'/'+archivo,'r') as file:\n",
    "            for linea in file:\n",
    "                data = json.loads(linea)\n",
    "                #Si la review es de un restaurante se guarda en el diccionario\n",
    "                if data['gmap_id'] in gmaps:\n",
    "                    reviews[data['gmap_id']]=data      \n",
    "            \n",
    "       "
   ]
  },
  {
   "cell_type": "code",
   "execution_count": 7,
   "metadata": {},
   "outputs": [],
   "source": [
    "#Ahora transformamos el diccionario en un data frame\n",
    "df_reviews=pd.DataFrame(reviews).T"
   ]
  },
  {
   "cell_type": "code",
   "execution_count": 8,
   "metadata": {},
   "outputs": [
    {
     "name": "stdout",
     "output_type": "stream",
     "text": [
      "<class 'pandas.core.frame.DataFrame'>\n",
      "Index: 4612 entries, 0x89c261f60bdf13db:0x38da730e4687a97b to 0x89c6c7f7f02bfe15:0xa5ca7c2c7bd545e\n",
      "Data columns (total 8 columns):\n",
      " #   Column   Non-Null Count  Dtype \n",
      "---  ------   --------------  ----- \n",
      " 0   user_id  4612 non-null   object\n",
      " 1   name     4612 non-null   object\n",
      " 2   time     4612 non-null   object\n",
      " 3   rating   4612 non-null   object\n",
      " 4   text     139 non-null    object\n",
      " 5   pics     69 non-null     object\n",
      " 6   resp     459 non-null    object\n",
      " 7   gmap_id  4612 non-null   object\n",
      "dtypes: object(8)\n",
      "memory usage: 324.3+ KB\n"
     ]
    }
   ],
   "source": [
    "df_reviews.info()"
   ]
  },
  {
   "cell_type": "code",
   "execution_count": 13,
   "metadata": {},
   "outputs": [],
   "source": [
    "#Eliminamos las columnas que no nos interesan\n",
    "df_reviews.drop(columns=['pics','time','resp'],inplace=True)"
   ]
  },
  {
   "cell_type": "code",
   "execution_count": 17,
   "metadata": {},
   "outputs": [],
   "source": [
    "#Unimos los dos dataframes\n",
    "df_reviews=df_reviews.merge(df_restaurantes[['gmap_id','city','state']],on='gmap_id',how='left')"
   ]
  },
  {
   "cell_type": "code",
   "execution_count": 20,
   "metadata": {},
   "outputs": [],
   "source": [
    "#Reordenamos las columnas \n",
    "df_reviews=df_reviews[['gmap_id','name','city','state','rating','text']]"
   ]
  },
  {
   "cell_type": "code",
   "execution_count": 21,
   "metadata": {},
   "outputs": [
    {
     "name": "stdout",
     "output_type": "stream",
     "text": [
      "<class 'pandas.core.frame.DataFrame'>\n",
      "RangeIndex: 4612 entries, 0 to 4611\n",
      "Data columns (total 6 columns):\n",
      " #   Column   Non-Null Count  Dtype \n",
      "---  ------   --------------  ----- \n",
      " 0   gmap_id  4612 non-null   object\n",
      " 1   name     4612 non-null   object\n",
      " 2   city     4612 non-null   object\n",
      " 3   state    4612 non-null   object\n",
      " 4   rating   4612 non-null   object\n",
      " 5   text     139 non-null    object\n",
      "dtypes: object(6)\n",
      "memory usage: 216.3+ KB\n"
     ]
    }
   ],
   "source": [
    "df_reviews.info()"
   ]
  },
  {
   "cell_type": "code",
   "execution_count": 22,
   "metadata": {},
   "outputs": [
    {
     "data": {
      "text/html": [
       "<div>\n",
       "<style scoped>\n",
       "    .dataframe tbody tr th:only-of-type {\n",
       "        vertical-align: middle;\n",
       "    }\n",
       "\n",
       "    .dataframe tbody tr th {\n",
       "        vertical-align: top;\n",
       "    }\n",
       "\n",
       "    .dataframe thead th {\n",
       "        text-align: right;\n",
       "    }\n",
       "</style>\n",
       "<table border=\"1\" class=\"dataframe\">\n",
       "  <thead>\n",
       "    <tr style=\"text-align: right;\">\n",
       "      <th></th>\n",
       "      <th>gmap_id</th>\n",
       "      <th>name</th>\n",
       "      <th>city</th>\n",
       "      <th>state</th>\n",
       "      <th>rating</th>\n",
       "      <th>text</th>\n",
       "    </tr>\n",
       "  </thead>\n",
       "  <tbody>\n",
       "    <tr>\n",
       "      <th>0</th>\n",
       "      <td>0x89c261f60bdf13db:0x38da730e4687a97b</td>\n",
       "      <td>SK</td>\n",
       "      <td>Queens</td>\n",
       "      <td>NY</td>\n",
       "      <td>1</td>\n",
       "      <td>Staff needs to pay attention to what costumers...</td>\n",
       "    </tr>\n",
       "    <tr>\n",
       "      <th>1</th>\n",
       "      <td>0x89c258ffaeaba947:0x8355860772a595a9</td>\n",
       "      <td>Matt Schaffnit</td>\n",
       "      <td>New York</td>\n",
       "      <td>NY</td>\n",
       "      <td>5</td>\n",
       "      <td>Used to get lunch here nearly every day. You w...</td>\n",
       "    </tr>\n",
       "    <tr>\n",
       "      <th>2</th>\n",
       "      <td>0x89c2f5c3caef3fb5:0xb7f855503b4bc974</td>\n",
       "      <td>Rafiat Aromire</td>\n",
       "      <td>Bronx</td>\n",
       "      <td>NY</td>\n",
       "      <td>4</td>\n",
       "      <td>Good food, clean place !</td>\n",
       "    </tr>\n",
       "    <tr>\n",
       "      <th>3</th>\n",
       "      <td>0x89c25bb23e0eec35:0xe8a6498dea29132b</td>\n",
       "      <td>Chris</td>\n",
       "      <td>Brooklyn</td>\n",
       "      <td>NY</td>\n",
       "      <td>1</td>\n",
       "      <td>None</td>\n",
       "    </tr>\n",
       "    <tr>\n",
       "      <th>4</th>\n",
       "      <td>0x89c26321a3efcfe9:0x962f89abf63762db</td>\n",
       "      <td>Princess Isabell</td>\n",
       "      <td>Franklin Square</td>\n",
       "      <td>NY</td>\n",
       "      <td>5</td>\n",
       "      <td>Great place</td>\n",
       "    </tr>\n",
       "  </tbody>\n",
       "</table>\n",
       "</div>"
      ],
      "text/plain": [
       "                                 gmap_id              name             city  \\\n",
       "0  0x89c261f60bdf13db:0x38da730e4687a97b                SK           Queens   \n",
       "1  0x89c258ffaeaba947:0x8355860772a595a9    Matt Schaffnit         New York   \n",
       "2  0x89c2f5c3caef3fb5:0xb7f855503b4bc974    Rafiat Aromire            Bronx   \n",
       "3  0x89c25bb23e0eec35:0xe8a6498dea29132b             Chris         Brooklyn   \n",
       "4  0x89c26321a3efcfe9:0x962f89abf63762db  Princess Isabell  Franklin Square   \n",
       "\n",
       "  state rating                                               text  \n",
       "0    NY      1  Staff needs to pay attention to what costumers...  \n",
       "1    NY      5  Used to get lunch here nearly every day. You w...  \n",
       "2    NY      4                           Good food, clean place !  \n",
       "3    NY      1                                               None  \n",
       "4    NY      5                                        Great place  "
      ]
     },
     "execution_count": 22,
     "metadata": {},
     "output_type": "execute_result"
    }
   ],
   "source": [
    "df_reviews.head()"
   ]
  },
  {
   "cell_type": "code",
   "execution_count": 23,
   "metadata": {},
   "outputs": [],
   "source": [
    "df_reviews.to_parquet('Datos limpios/reviews_restaurantes.parquet')"
   ]
  }
 ],
 "metadata": {
  "kernelspec": {
   "display_name": "Python 3",
   "language": "python",
   "name": "python3"
  },
  "language_info": {
   "codemirror_mode": {
    "name": "ipython",
    "version": 3
   },
   "file_extension": ".py",
   "mimetype": "text/x-python",
   "name": "python",
   "nbconvert_exporter": "python",
   "pygments_lexer": "ipython3",
   "version": "3.12.1"
  }
 },
 "nbformat": 4,
 "nbformat_minor": 2
}
