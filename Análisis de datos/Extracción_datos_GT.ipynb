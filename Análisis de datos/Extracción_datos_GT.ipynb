{
 "cells": [
  {
   "cell_type": "code",
   "execution_count": 2,
   "metadata": {},
   "outputs": [],
   "source": [
    "from pytrends.request import TrendReq\n",
    "import matplotlib.pyplot as plt\n",
    "import pandas as pd\n",
    "import numpy as np"
   ]
  },
  {
   "cell_type": "code",
   "execution_count": 3,
   "metadata": {},
   "outputs": [],
   "source": [
    "#Definimos las palabras claves que queremos buscar\n",
    "keywords = ['restaurant','spa','beauty salon']\n",
    "#Instanciamos la clase TrendReq\n",
    "pytrends = TrendReq()\n",
    "#Definimos los parametros de la busqueda\n",
    "pytrends.build_payload(keywords,timeframe='today 5-y',geo='US')\n",
    "#Obtenemos los datos\n",
    "trend_data = pytrends.interest_over_time()\n",
    "#Seleccionamos las columnas que nos interesan\n",
    "data_US = trend_data[keywords]\n",
    "#Reseteamos el indice\n",
    "data_US.reset_index(inplace=True)\n",
    "#Guardamos los datos en un archivo csv\n",
    "data_US.to_csv('Fuentes externas/google_trends.csv',index=False)\n"
   ]
  },
  {
   "cell_type": "code",
   "execution_count": null,
   "metadata": {},
   "outputs": [
    {
     "name": "stdout",
     "output_type": "stream",
     "text": [
      "<class 'pandas.core.frame.DataFrame'>\n",
      "RangeIndex: 262 entries, 0 to 261\n",
      "Data columns (total 4 columns):\n",
      " #   Column        Non-Null Count  Dtype         \n",
      "---  ------        --------------  -----         \n",
      " 0   date          262 non-null    datetime64[ns]\n",
      " 1   restaurant    262 non-null    int32         \n",
      " 2   spa           262 non-null    int32         \n",
      " 3   beauty salon  262 non-null    int32         \n",
      "dtypes: datetime64[ns](1), int32(3)\n",
      "memory usage: 5.2 KB\n"
     ]
    }
   ],
   "source": [
    "data_US.info()"
   ]
  },
  {
   "cell_type": "code",
   "execution_count": 5,
   "metadata": {},
   "outputs": [],
   "source": [
    "#Definimos los parámetros de la búsqueda\n",
    "states = ['CA', 'TX', 'FL', 'NY', 'PA']\n",
    "keywords = ['restaurant', 'spa', 'beauty salon']\n",
    "timeframe = 'today 5-y'\n",
    "\n",
    "# Instanciamos la clase TrendReq\n",
    "pytrends = TrendReq()\n",
    "\n",
    "# Creamos un diccionario para almacenar los datos de tendencias para cada estado\n",
    "state_trends = {}\n",
    "\n",
    "for state in states:\n",
    "    pytrends.build_payload(keywords, timeframe=timeframe, geo=f'US-{state}')\n",
    "    trend_data = pytrends.interest_over_time()\n",
    "    state_trends[state] = trend_data[keywords]"
   ]
  },
  {
   "cell_type": "code",
   "execution_count": 8,
   "metadata": {},
   "outputs": [],
   "source": [
    "#Guardamos los datos en archivos csv\n",
    "for state in states:\n",
    "    state_trends[state].reset_index(inplace=True)\n",
    "    state_trends[state].to_csv(f'Fuentes externas/google_trends_{state}.csv', index=False)"
   ]
  }
 ],
 "metadata": {
  "kernelspec": {
   "display_name": "Python 3",
   "language": "python",
   "name": "python3"
  },
  "language_info": {
   "codemirror_mode": {
    "name": "ipython",
    "version": 3
   },
   "file_extension": ".py",
   "mimetype": "text/x-python",
   "name": "python",
   "nbconvert_exporter": "python",
   "pygments_lexer": "ipython3",
   "version": "3.12.1"
  }
 },
 "nbformat": 4,
 "nbformat_minor": 2
}
